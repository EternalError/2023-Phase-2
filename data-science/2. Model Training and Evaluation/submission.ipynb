{
 "cells": [
  {
   "cell_type": "markdown",
   "id": "ce060bc6",
   "metadata": {},
   "source": [
    "# Modelling and Evaluation\n",
    "\n",
    "By now, you should have done EDA and preprocessing on your data to get ready for modelling and evaluation. \n",
    "\n",
    "So without further ado, let's begin!"
   ]
  },
  {
   "cell_type": "markdown",
   "id": "bad2edd4",
   "metadata": {},
   "source": [
    "## Imports"
   ]
  },
  {
   "cell_type": "code",
   "execution_count": null,
   "id": "7d488f42",
   "metadata": {},
   "outputs": [],
   "source": [
    "import pandas as pd\n",
    "import numpy as np\n",
    "import matplotlib.pyplot as plt\n",
    "import seaborn as sns"
   ]
  },
  {
   "cell_type": "markdown",
   "id": "240b0621",
   "metadata": {},
   "source": [
    "## Get the Data\n",
    "\n",
    "Since notebooks are meant to be easily readable, a person who has no clue what the dataset is or looks like might have some trouble understanding this whole section. That's why, I want you to edit this block and describe what the dataset you are working with is all about. Then, with bullet points, mention the features in your data like this:\n",
    "\n",
    "- Some feature: This feature is the amount (unit) a user spends.\n",
    "- Some other feature: This feature is the amount (unit) the user buys.\n",
    "\n",
    "Note: you can use ```df.info()``` to get more information about your columns in your dataframe, ```df``` after you have imported it."
   ]
  },
  {
   "cell_type": "code",
   "execution_count": null,
   "id": "00ced5df",
   "metadata": {},
   "outputs": [],
   "source": [
    "# Read the cleaned data\n",
    "\n"
   ]
  },
  {
   "cell_type": "markdown",
   "id": "08c4bc0a",
   "metadata": {},
   "source": [
    "## Split the Data"
   ]
  },
  {
   "cell_type": "code",
   "execution_count": null,
   "id": "82b64b4b",
   "metadata": {},
   "outputs": [],
   "source": [
    "# Choose a 70-30 (train-test) split with random_state 101\n"
   ]
  },
  {
   "cell_type": "markdown",
   "id": "c03221b0",
   "metadata": {},
   "source": [
    "## Choose a Model"
   ]
  },
  {
   "cell_type": "code",
   "execution_count": null,
   "id": "e560c3b5",
   "metadata": {},
   "outputs": [],
   "source": [
    "# Name it model1\n"
   ]
  },
  {
   "cell_type": "markdown",
   "id": "3e06351b",
   "metadata": {},
   "source": [
    "## Train and Test"
   ]
  },
  {
   "cell_type": "code",
   "execution_count": null,
   "id": "4bba856e",
   "metadata": {},
   "outputs": [],
   "source": [
    "# Train model1\n"
   ]
  },
  {
   "cell_type": "code",
   "execution_count": null,
   "id": "81b1b7d3",
   "metadata": {},
   "outputs": [],
   "source": [
    "# Test model1\n"
   ]
  },
  {
   "cell_type": "code",
   "execution_count": null,
   "id": "619bb3d3",
   "metadata": {},
   "outputs": [],
   "source": [
    "# Print a simple metric for model1 predictions / draw a graph for linear regression\n"
   ]
  },
  {
   "cell_type": "markdown",
   "id": "890d578a",
   "metadata": {},
   "source": [
    "## Choose another Model"
   ]
  },
  {
   "cell_type": "code",
   "execution_count": null,
   "id": "08c0e13c",
   "metadata": {},
   "outputs": [],
   "source": [
    "# Name it model2\n"
   ]
  },
  {
   "cell_type": "markdown",
   "id": "292208b9",
   "metadata": {},
   "source": [
    "## Train and Test"
   ]
  },
  {
   "cell_type": "code",
   "execution_count": null,
   "id": "065f109b",
   "metadata": {},
   "outputs": [],
   "source": [
    "# Train model2\n"
   ]
  },
  {
   "cell_type": "code",
   "execution_count": null,
   "id": "fda6a3f4",
   "metadata": {},
   "outputs": [],
   "source": [
    "# Test model2\n"
   ]
  },
  {
   "cell_type": "code",
   "execution_count": null,
   "id": "c8c3f8e8",
   "metadata": {},
   "outputs": [],
   "source": [
    "# Print a simple metric for model2 predictions / draw a graph for linear regression\n"
   ]
  },
  {
   "cell_type": "markdown",
   "id": "5cafcd88",
   "metadata": {},
   "source": [
    "## Model Evaluation \n",
    "\n",
    "Some ways you could evaluate your model are given in [Step 3: Model Evaluation](https://github.com/NZMSA/2023-Phase-2/tree/main/data-science/2.%20Model%20Training%20and%20Evaluation#step-3-model-evaluation). "
   ]
  },
  {
   "cell_type": "code",
   "execution_count": null,
   "id": "55b0785c",
   "metadata": {},
   "outputs": [],
   "source": []
  },
  {
   "cell_type": "markdown",
   "id": "41d1ed33",
   "metadata": {},
   "source": [
    "### Cross Validation\n",
    "\n",
    "Now that you have used an evaluation method, you must now use cross validation **with** that evaluation method that you have chosen. More details can be found in the [Cross Validation](https://github.com/NZMSA/2023-Phase-2/tree/main/data-science/2.%20Model%20Training%20and%20Evaluation#cross-validation) section in ```README```.\n",
    "\n"
   ]
  },
  {
   "cell_type": "code",
   "execution_count": null,
   "id": "d8bcc50a",
   "metadata": {},
   "outputs": [],
   "source": []
  },
  {
   "cell_type": "markdown",
   "id": "f52dec68",
   "metadata": {},
   "source": [
    "## Compare the Models\n",
    "\n",
    "For this step, graphically show which model performs better. Write some notes mentioning how one model performs relative to the other."
   ]
  },
  {
   "cell_type": "code",
   "execution_count": null,
   "id": "c7d4933e",
   "metadata": {},
   "outputs": [],
   "source": []
  },
  {
   "cell_type": "markdown",
   "id": "495d46b3",
   "metadata": {},
   "source": [
    "## Optimization\n",
    "\n",
    "This part is a bit unstructured but you have *complete* freedom on deciding how you could improve your model(s). You could try and evaluate other models. Choose the better performing model from above and improve upon it or combine the two models into one! Refer to [Step 4: Optimizing](https://github.com/NZMSA/2023-Phase-2/tree/main/data-science/2.%20Model%20Training%20and%20Evaluation#step-4-optimizing) for some more options. \n",
    "\n",
    "Feel free to be creative here.\n",
    "\n",
    "Whatever you do, make sure you document what you are doing so that we understand!\n",
    "\n",
    "At the end, write a short summary (with a graph for brownie points) on how much improvement you have achieved from your base model.\n",
    "\n",
    "Note: This is your time to shine. Optimization is really what separates an average data scientist from a great one. Make something that you can be proud of. If you achieve that, this notebook can prove to become a great asset to your data science portfolio. As a bare minimum, implement at least one method to improve upon your base model(s)."
   ]
  },
  {
   "cell_type": "code",
   "execution_count": null,
   "id": "014fcd3d",
   "metadata": {},
   "outputs": [],
   "source": []
  },
  {
   "cell_type": "markdown",
   "id": "4587f76e",
   "metadata": {},
   "source": [
    "## Finishing up\n",
    "\n",
    "To conclude your notebook, you should summarise what results you found from your model. \n",
    "\n",
    "If you are doing a regression problem, you could try looking up your coefficients of your regression model using ```pd.DataFrame(<model>.coef_, X.columns, columns = ['Coefficient'])[:-1]``` with ```<model>``` replaced with your model name to briefly mention what these coefficients mean. \n",
    "\n",
    "Otherwise for classification, you could find the class that your model struggles with the most and give your thoughts on why that is. This might include doing some EDA on your model predictions. Share your thoughts on how this could fixed.\n",
    "\n",
    "The main goal here is to say what you learned from doing everything that you did!"
   ]
  },
  {
   "cell_type": "code",
   "execution_count": null,
   "id": "0dda11f9",
   "metadata": {},
   "outputs": [],
   "source": []
  },
  {
   "cell_type": "markdown",
   "id": "87ee21ef",
   "metadata": {},
   "source": [
    "# Great Job!"
   ]
  }
 ],
 "metadata": {
  "kernelspec": {
   "display_name": "Python 3 (ipykernel)",
   "language": "python",
   "name": "python3"
  },
  "language_info": {
   "codemirror_mode": {
    "name": "ipython",
    "version": 3
   },
   "file_extension": ".py",
   "mimetype": "text/x-python",
   "name": "python",
   "nbconvert_exporter": "python",
   "pygments_lexer": "ipython3",
   "version": "3.11.1"
  }
 },
 "nbformat": 4,
 "nbformat_minor": 5
}
